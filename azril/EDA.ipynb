{
 "cells": [
  {
   "cell_type": "markdown",
   "id": "5c51d13f",
   "metadata": {},
   "source": [
    "# Exploratory Data Analysis (EDA)"
   ]
  },
  {
   "cell_type": "code",
   "execution_count": 1,
   "id": "114833d9",
   "metadata": {},
   "outputs": [],
   "source": [
    "\n",
    "import pandas as pd\n",
    "import numpy as np\n",
    "import matplotlib.pyplot as plt\n",
    "import seaborn as sns\n",
    "from sklearn.model_selection import train_test_split, KFold, cross_val_score\n",
    "from sklearn.metrics import r2_score, mean_squared_error, mean_absolute_error\n",
    "from sklearn.preprocessing import StandardScaler, PowerTransformer\n",
    "from sklearn.impute import KNNImputer\n",
    "from sklearn.ensemble import RandomForestRegressor, GradientBoostingRegressor, VotingRegressor, StackingRegressor\n",
    "from sklearn.linear_model import LassoCV, RidgeCV\n",
    "from sklearn.feature_selection import SelectFromModel\n",
    "from xgboost import XGBRegressor\n",
    "import xgboost as xgb\n",
    "import warnings\n",
    "from sklearn.preprocessing import PolynomialFeatures\n",
    "from catboost import CatBoostRegressor\n",
    "from sklearn.metrics import mean_squared_error, r2_score, mean_absolute_error\n",
    "from sklearn.model_selection import cross_val_predict\n",
    "from sklearn.metrics import mean_squared_log_error\n",
    "from sklearn.base import clone\n",
    "warnings.filterwarnings('ignore')"
   ]
  },
  {
   "cell_type": "code",
   "execution_count": 2,
   "id": "a797e807",
   "metadata": {},
   "outputs": [],
   "source": [
    "def load_data():\n",
    "    data_dir = '../input/'\n",
    "\n",
    "    train = pd.read_csv(data_dir + 'train.csv', index_col=\"id\")\n",
    "    test = pd.read_csv(data_dir + 'test.csv', index_col=\"id\")\n",
    "    return train, test"
   ]
  },
  {
   "cell_type": "code",
   "execution_count": 3,
   "id": "370a0d93",
   "metadata": {},
   "outputs": [
    {
     "data": {
      "application/vnd.microsoft.datawrangler.viewer.v0+json": {
       "columns": [
        {
         "name": "id",
         "rawType": "int64",
         "type": "integer"
        },
        {
         "name": "Sex",
         "rawType": "object",
         "type": "string"
        },
        {
         "name": "Age",
         "rawType": "int64",
         "type": "integer"
        },
        {
         "name": "Height",
         "rawType": "float64",
         "type": "float"
        },
        {
         "name": "Weight",
         "rawType": "float64",
         "type": "float"
        },
        {
         "name": "Duration",
         "rawType": "float64",
         "type": "float"
        },
        {
         "name": "Heart_Rate",
         "rawType": "float64",
         "type": "float"
        },
        {
         "name": "Body_Temp",
         "rawType": "float64",
         "type": "float"
        },
        {
         "name": "Calories",
         "rawType": "float64",
         "type": "float"
        }
       ],
       "ref": "2a5511ad-8ed0-4a68-a985-52450ef0a5e1",
       "rows": [
        [
         "0",
         "male",
         "36",
         "189.0",
         "82.0",
         "26.0",
         "101.0",
         "41.0",
         "150.0"
        ],
        [
         "1",
         "female",
         "64",
         "163.0",
         "60.0",
         "8.0",
         "85.0",
         "39.7",
         "34.0"
        ],
        [
         "2",
         "female",
         "51",
         "161.0",
         "64.0",
         "7.0",
         "84.0",
         "39.8",
         "29.0"
        ],
        [
         "3",
         "male",
         "20",
         "192.0",
         "90.0",
         "25.0",
         "105.0",
         "40.7",
         "140.0"
        ],
        [
         "4",
         "female",
         "38",
         "166.0",
         "61.0",
         "25.0",
         "102.0",
         "40.6",
         "146.0"
        ],
        [
         "5",
         "female",
         "26",
         "156.0",
         "56.0",
         "19.0",
         "100.0",
         "40.5",
         "103.0"
        ],
        [
         "6",
         "female",
         "21",
         "172.0",
         "73.0",
         "3.0",
         "81.0",
         "38.3",
         "9.0"
        ],
        [
         "7",
         "male",
         "46",
         "188.0",
         "94.0",
         "23.0",
         "100.0",
         "40.8",
         "145.0"
        ],
        [
         "8",
         "female",
         "33",
         "166.0",
         "63.0",
         "25.0",
         "107.0",
         "40.5",
         "161.0"
        ],
        [
         "9",
         "male",
         "65",
         "185.0",
         "88.0",
         "23.0",
         "104.0",
         "41.0",
         "185.0"
        ],
        [
         "10",
         "male",
         "20",
         "186.0",
         "89.0",
         "21.0",
         "94.0",
         "40.3",
         "86.0"
        ],
        [
         "11",
         "female",
         "41",
         "161.0",
         "63.0",
         "6.0",
         "91.0",
         "39.1",
         "28.0"
        ],
        [
         "12",
         "male",
         "25",
         "203.0",
         "99.0",
         "29.0",
         "111.0",
         "40.8",
         "202.0"
        ],
        [
         "13",
         "male",
         "57",
         "188.0",
         "91.0",
         "12.0",
         "105.0",
         "40.1",
         "87.0"
        ],
        [
         "14",
         "female",
         "44",
         "179.0",
         "77.0",
         "6.0",
         "84.0",
         "39.3",
         "23.0"
        ],
        [
         "15",
         "male",
         "38",
         "180.0",
         "85.0",
         "11.0",
         "92.0",
         "40.0",
         "47.0"
        ],
        [
         "16",
         "male",
         "27",
         "186.0",
         "81.0",
         "15.0",
         "101.0",
         "40.1",
         "80.0"
        ],
        [
         "17",
         "female",
         "51",
         "171.0",
         "71.0",
         "1.0",
         "77.0",
         "37.7",
         "3.0"
        ],
        [
         "18",
         "male",
         "26",
         "198.0",
         "99.0",
         "3.0",
         "89.0",
         "38.6",
         "10.0"
        ],
        [
         "19",
         "male",
         "51",
         "187.0",
         "94.0",
         "3.0",
         "81.0",
         "38.8",
         "10.0"
        ],
        [
         "20",
         "male",
         "48",
         "165.0",
         "69.0",
         "4.0",
         "79.0",
         "38.6",
         "13.0"
        ],
        [
         "21",
         "female",
         "32",
         "171.0",
         "71.0",
         "7.0",
         "82.0",
         "39.7",
         "23.0"
        ],
        [
         "22",
         "male",
         "32",
         "177.0",
         "78.0",
         "9.0",
         "91.0",
         "39.6",
         "35.0"
        ],
        [
         "23",
         "male",
         "72",
         "186.0",
         "92.0",
         "29.0",
         "98.0",
         "40.9",
         "264.0"
        ],
        [
         "24",
         "female",
         "45",
         "184.0",
         "79.0",
         "30.0",
         "108.0",
         "41.1",
         "187.0"
        ],
        [
         "25",
         "female",
         "22",
         "164.0",
         "67.0",
         "8.0",
         "83.0",
         "39.7",
         "29.0"
        ],
        [
         "26",
         "male",
         "48",
         "164.0",
         "64.0",
         "11.0",
         "95.0",
         "39.7",
         "51.0"
        ],
        [
         "27",
         "male",
         "54",
         "179.0",
         "87.0",
         "21.0",
         "92.0",
         "40.7",
         "105.0"
        ],
        [
         "28",
         "male",
         "41",
         "182.0",
         "89.0",
         "15.0",
         "93.0",
         "40.1",
         "72.0"
        ],
        [
         "29",
         "female",
         "40",
         "162.0",
         "64.0",
         "4.0",
         "88.0",
         "39.1",
         "16.0"
        ],
        [
         "30",
         "female",
         "42",
         "156.0",
         "51.0",
         "19.0",
         "94.0",
         "40.3",
         "98.0"
        ],
        [
         "31",
         "male",
         "43",
         "182.0",
         "86.0",
         "12.0",
         "94.0",
         "39.9",
         "61.0"
        ],
        [
         "32",
         "female",
         "53",
         "150.0",
         "55.0",
         "5.0",
         "81.0",
         "38.8",
         "20.0"
        ],
        [
         "33",
         "female",
         "54",
         "163.0",
         "60.0",
         "28.0",
         "110.0",
         "40.8",
         "195.0"
        ],
        [
         "34",
         "male",
         "54",
         "189.0",
         "94.0",
         "9.0",
         "85.0",
         "40.1",
         "36.0"
        ],
        [
         "35",
         "male",
         "31",
         "186.0",
         "84.0",
         "20.0",
         "101.0",
         "40.8",
         "106.0"
        ],
        [
         "36",
         "female",
         "46",
         "169.0",
         "69.0",
         "20.0",
         "97.0",
         "40.7",
         "109.0"
        ],
        [
         "37",
         "male",
         "36",
         "165.0",
         "78.0",
         "6.0",
         "81.0",
         "39.2",
         "15.0"
        ],
        [
         "38",
         "male",
         "47",
         "191.0",
         "92.0",
         "17.0",
         "96.0",
         "40.4",
         "95.0"
        ],
        [
         "39",
         "female",
         "40",
         "152.0",
         "51.0",
         "27.0",
         "102.0",
         "40.8",
         "165.0"
        ],
        [
         "40",
         "female",
         "71",
         "178.0",
         "79.0",
         "1.0",
         "76.0",
         "37.6",
         "4.0"
        ],
        [
         "41",
         "female",
         "61",
         "161.0",
         "60.0",
         "29.0",
         "111.0",
         "41.0",
         "209.0"
        ],
        [
         "42",
         "male",
         "78",
         "158.0",
         "59.0",
         "20.0",
         "94.0",
         "40.7",
         "133.0"
        ],
        [
         "43",
         "female",
         "40",
         "161.0",
         "62.0",
         "15.0",
         "88.0",
         "40.3",
         "66.0"
        ],
        [
         "44",
         "female",
         "21",
         "161.0",
         "56.0",
         "18.0",
         "98.0",
         "40.5",
         "92.0"
        ],
        [
         "45",
         "male",
         "32",
         "208.0",
         "104.0",
         "19.0",
         "98.0",
         "40.0",
         "101.0"
        ],
        [
         "46",
         "female",
         "50",
         "171.0",
         "64.0",
         "28.0",
         "116.0",
         "41.2",
         "214.0"
        ],
        [
         "47",
         "female",
         "35",
         "170.0",
         "70.0",
         "20.0",
         "92.0",
         "40.7",
         "92.0"
        ],
        [
         "48",
         "female",
         "45",
         "183.0",
         "82.0",
         "25.0",
         "99.0",
         "41.1",
         "136.0"
        ],
        [
         "49",
         "female",
         "26",
         "180.0",
         "72.0",
         "18.0",
         "102.0",
         "40.4",
         "98.0"
        ]
       ],
       "shape": {
        "columns": 8,
        "rows": 750000
       }
      },
      "text/html": [
       "<div>\n",
       "<style scoped>\n",
       "    .dataframe tbody tr th:only-of-type {\n",
       "        vertical-align: middle;\n",
       "    }\n",
       "\n",
       "    .dataframe tbody tr th {\n",
       "        vertical-align: top;\n",
       "    }\n",
       "\n",
       "    .dataframe thead th {\n",
       "        text-align: right;\n",
       "    }\n",
       "</style>\n",
       "<table border=\"1\" class=\"dataframe\">\n",
       "  <thead>\n",
       "    <tr style=\"text-align: right;\">\n",
       "      <th></th>\n",
       "      <th>Sex</th>\n",
       "      <th>Age</th>\n",
       "      <th>Height</th>\n",
       "      <th>Weight</th>\n",
       "      <th>Duration</th>\n",
       "      <th>Heart_Rate</th>\n",
       "      <th>Body_Temp</th>\n",
       "      <th>Calories</th>\n",
       "    </tr>\n",
       "    <tr>\n",
       "      <th>id</th>\n",
       "      <th></th>\n",
       "      <th></th>\n",
       "      <th></th>\n",
       "      <th></th>\n",
       "      <th></th>\n",
       "      <th></th>\n",
       "      <th></th>\n",
       "      <th></th>\n",
       "    </tr>\n",
       "  </thead>\n",
       "  <tbody>\n",
       "    <tr>\n",
       "      <th>0</th>\n",
       "      <td>male</td>\n",
       "      <td>36</td>\n",
       "      <td>189.0</td>\n",
       "      <td>82.0</td>\n",
       "      <td>26.0</td>\n",
       "      <td>101.0</td>\n",
       "      <td>41.0</td>\n",
       "      <td>150.0</td>\n",
       "    </tr>\n",
       "    <tr>\n",
       "      <th>1</th>\n",
       "      <td>female</td>\n",
       "      <td>64</td>\n",
       "      <td>163.0</td>\n",
       "      <td>60.0</td>\n",
       "      <td>8.0</td>\n",
       "      <td>85.0</td>\n",
       "      <td>39.7</td>\n",
       "      <td>34.0</td>\n",
       "    </tr>\n",
       "    <tr>\n",
       "      <th>2</th>\n",
       "      <td>female</td>\n",
       "      <td>51</td>\n",
       "      <td>161.0</td>\n",
       "      <td>64.0</td>\n",
       "      <td>7.0</td>\n",
       "      <td>84.0</td>\n",
       "      <td>39.8</td>\n",
       "      <td>29.0</td>\n",
       "    </tr>\n",
       "    <tr>\n",
       "      <th>3</th>\n",
       "      <td>male</td>\n",
       "      <td>20</td>\n",
       "      <td>192.0</td>\n",
       "      <td>90.0</td>\n",
       "      <td>25.0</td>\n",
       "      <td>105.0</td>\n",
       "      <td>40.7</td>\n",
       "      <td>140.0</td>\n",
       "    </tr>\n",
       "    <tr>\n",
       "      <th>4</th>\n",
       "      <td>female</td>\n",
       "      <td>38</td>\n",
       "      <td>166.0</td>\n",
       "      <td>61.0</td>\n",
       "      <td>25.0</td>\n",
       "      <td>102.0</td>\n",
       "      <td>40.6</td>\n",
       "      <td>146.0</td>\n",
       "    </tr>\n",
       "    <tr>\n",
       "      <th>...</th>\n",
       "      <td>...</td>\n",
       "      <td>...</td>\n",
       "      <td>...</td>\n",
       "      <td>...</td>\n",
       "      <td>...</td>\n",
       "      <td>...</td>\n",
       "      <td>...</td>\n",
       "      <td>...</td>\n",
       "    </tr>\n",
       "    <tr>\n",
       "      <th>749995</th>\n",
       "      <td>male</td>\n",
       "      <td>28</td>\n",
       "      <td>193.0</td>\n",
       "      <td>97.0</td>\n",
       "      <td>30.0</td>\n",
       "      <td>114.0</td>\n",
       "      <td>40.9</td>\n",
       "      <td>230.0</td>\n",
       "    </tr>\n",
       "    <tr>\n",
       "      <th>749996</th>\n",
       "      <td>female</td>\n",
       "      <td>64</td>\n",
       "      <td>165.0</td>\n",
       "      <td>63.0</td>\n",
       "      <td>18.0</td>\n",
       "      <td>92.0</td>\n",
       "      <td>40.5</td>\n",
       "      <td>96.0</td>\n",
       "    </tr>\n",
       "    <tr>\n",
       "      <th>749997</th>\n",
       "      <td>male</td>\n",
       "      <td>60</td>\n",
       "      <td>162.0</td>\n",
       "      <td>67.0</td>\n",
       "      <td>29.0</td>\n",
       "      <td>113.0</td>\n",
       "      <td>40.9</td>\n",
       "      <td>221.0</td>\n",
       "    </tr>\n",
       "    <tr>\n",
       "      <th>749998</th>\n",
       "      <td>male</td>\n",
       "      <td>45</td>\n",
       "      <td>182.0</td>\n",
       "      <td>91.0</td>\n",
       "      <td>17.0</td>\n",
       "      <td>102.0</td>\n",
       "      <td>40.3</td>\n",
       "      <td>109.0</td>\n",
       "    </tr>\n",
       "    <tr>\n",
       "      <th>749999</th>\n",
       "      <td>female</td>\n",
       "      <td>39</td>\n",
       "      <td>171.0</td>\n",
       "      <td>65.0</td>\n",
       "      <td>19.0</td>\n",
       "      <td>97.0</td>\n",
       "      <td>40.6</td>\n",
       "      <td>103.0</td>\n",
       "    </tr>\n",
       "  </tbody>\n",
       "</table>\n",
       "<p>750000 rows × 8 columns</p>\n",
       "</div>"
      ],
      "text/plain": [
       "           Sex  Age  Height  Weight  Duration  Heart_Rate  Body_Temp  Calories\n",
       "id                                                                            \n",
       "0         male   36   189.0    82.0      26.0       101.0       41.0     150.0\n",
       "1       female   64   163.0    60.0       8.0        85.0       39.7      34.0\n",
       "2       female   51   161.0    64.0       7.0        84.0       39.8      29.0\n",
       "3         male   20   192.0    90.0      25.0       105.0       40.7     140.0\n",
       "4       female   38   166.0    61.0      25.0       102.0       40.6     146.0\n",
       "...        ...  ...     ...     ...       ...         ...        ...       ...\n",
       "749995    male   28   193.0    97.0      30.0       114.0       40.9     230.0\n",
       "749996  female   64   165.0    63.0      18.0        92.0       40.5      96.0\n",
       "749997    male   60   162.0    67.0      29.0       113.0       40.9     221.0\n",
       "749998    male   45   182.0    91.0      17.0       102.0       40.3     109.0\n",
       "749999  female   39   171.0    65.0      19.0        97.0       40.6     103.0\n",
       "\n",
       "[750000 rows x 8 columns]"
      ]
     },
     "execution_count": 3,
     "metadata": {},
     "output_type": "execute_result"
    }
   ],
   "source": [
    "train, test = load_data()\n",
    "train"
   ]
  },
  {
   "cell_type": "code",
   "execution_count": 4,
   "id": "25283664",
   "metadata": {},
   "outputs": [
    {
     "name": "stdout",
     "output_type": "stream",
     "text": [
      "<class 'pandas.core.frame.DataFrame'>\n",
      "Index: 750000 entries, 0 to 749999\n",
      "Data columns (total 8 columns):\n",
      " #   Column      Non-Null Count   Dtype  \n",
      "---  ------      --------------   -----  \n",
      " 0   Sex         750000 non-null  object \n",
      " 1   Age         750000 non-null  int64  \n",
      " 2   Height      750000 non-null  float64\n",
      " 3   Weight      750000 non-null  float64\n",
      " 4   Duration    750000 non-null  float64\n",
      " 5   Heart_Rate  750000 non-null  float64\n",
      " 6   Body_Temp   750000 non-null  float64\n",
      " 7   Calories    750000 non-null  float64\n",
      "dtypes: float64(6), int64(1), object(1)\n",
      "memory usage: 51.5+ MB\n"
     ]
    }
   ],
   "source": [
    "train.info()"
   ]
  },
  {
   "cell_type": "code",
   "execution_count": 5,
   "id": "f22eda88",
   "metadata": {},
   "outputs": [
    {
     "data": {
      "text/plain": [
       "(750000, 8)"
      ]
     },
     "execution_count": 5,
     "metadata": {},
     "output_type": "execute_result"
    }
   ],
   "source": [
    "train.shape"
   ]
  },
  {
   "cell_type": "code",
   "execution_count": 7,
   "id": "a35ece37",
   "metadata": {},
   "outputs": [
    {
     "name": "stdout",
     "output_type": "stream",
     "text": [
      "                 Age         Height         Weight       Duration  \\\n",
      "count  750000.000000  750000.000000  750000.000000  750000.000000   \n",
      "mean       41.420404     174.697685      75.145668      15.421015   \n",
      "std        15.175049      12.824496      13.982704       8.354095   \n",
      "min        20.000000     126.000000      36.000000       1.000000   \n",
      "25%        28.000000     164.000000      63.000000       8.000000   \n",
      "50%        40.000000     174.000000      74.000000      15.000000   \n",
      "75%        52.000000     185.000000      87.000000      23.000000   \n",
      "max        79.000000     222.000000     132.000000      30.000000   \n",
      "\n",
      "          Heart_Rate      Body_Temp       Calories  \n",
      "count  750000.000000  750000.000000  750000.000000  \n",
      "mean       95.483995      40.036253      88.282781  \n",
      "std         9.449845       0.779875      62.395349  \n",
      "min        67.000000      37.100000       1.000000  \n",
      "25%        88.000000      39.600000      34.000000  \n",
      "50%        95.000000      40.300000      77.000000  \n",
      "75%       103.000000      40.700000     136.000000  \n",
      "max       128.000000      41.500000     314.000000  \n"
     ]
    }
   ],
   "source": [
    "print(train.describe())"
   ]
  },
  {
   "cell_type": "code",
   "execution_count": 52,
   "id": "74e7640a",
   "metadata": {},
   "outputs": [],
   "source": [
    "train['Sex_encoded'] = train['Sex'].map({'female': 0, 'male': 1})\n",
    "test['Sex_encoded'] = test['Sex'].map({'female': 0, 'Male': 1})\n",
    "\n",
    "train.drop('Sex', axis=1, inplace=True)\n",
    "test.drop('Sex', axis=1, inplace=True)"
   ]
  },
  {
   "cell_type": "code",
   "execution_count": 27,
   "id": "4dfde233",
   "metadata": {},
   "outputs": [
    {
     "data": {
      "application/vnd.microsoft.datawrangler.viewer.v0+json": {
       "columns": [
        {
         "name": "index",
         "rawType": "object",
         "type": "string"
        },
        {
         "name": "0",
         "rawType": "int64",
         "type": "integer"
        }
       ],
       "ref": "8935ff25-db19-4239-832b-d6c09a7c472d",
       "rows": [
        [
         "Age",
         "0"
        ],
        [
         "Height",
         "0"
        ],
        [
         "Weight",
         "0"
        ],
        [
         "Duration",
         "0"
        ],
        [
         "Heart_Rate",
         "0"
        ],
        [
         "Body_Temp",
         "0"
        ],
        [
         "Calories",
         "0"
        ],
        [
         "Sex_encoded",
         "0"
        ]
       ],
       "shape": {
        "columns": 1,
        "rows": 8
       }
      },
      "text/plain": [
       "Age            0\n",
       "Height         0\n",
       "Weight         0\n",
       "Duration       0\n",
       "Heart_Rate     0\n",
       "Body_Temp      0\n",
       "Calories       0\n",
       "Sex_encoded    0\n",
       "dtype: int64"
      ]
     },
     "execution_count": 27,
     "metadata": {},
     "output_type": "execute_result"
    }
   ],
   "source": [
    "train.isnull().sum()"
   ]
  },
  {
   "cell_type": "code",
   "execution_count": 75,
   "id": "48ab2691",
   "metadata": {},
   "outputs": [],
   "source": [
    "test.to_csv('output/test_clean.csv', index=True)"
   ]
  },
  {
   "cell_type": "code",
   "execution_count": 46,
   "id": "c0700ca7",
   "metadata": {},
   "outputs": [
    {
     "name": "stdout",
     "output_type": "stream",
     "text": [
      "<class 'pandas.core.frame.DataFrame'>\n",
      "Index: 750000 entries, 0 to 749999\n",
      "Data columns (total 8 columns):\n",
      " #   Column       Non-Null Count   Dtype   \n",
      "---  ------       --------------   -----   \n",
      " 0   Age          750000 non-null  int64   \n",
      " 1   Height       750000 non-null  float64 \n",
      " 2   Weight       750000 non-null  float64 \n",
      " 3   Duration     750000 non-null  float64 \n",
      " 4   Heart_Rate   750000 non-null  float64 \n",
      " 5   Body_Temp    750000 non-null  float64 \n",
      " 6   Calories     750000 non-null  float64 \n",
      " 7   Sex_encoded  750000 non-null  category\n",
      "dtypes: category(1), float64(6), int64(1)\n",
      "memory usage: 46.5 MB\n"
     ]
    }
   ],
   "source": [
    "train.info()"
   ]
  },
  {
   "cell_type": "code",
   "execution_count": 32,
   "id": "ee970139",
   "metadata": {},
   "outputs": [
    {
     "data": {
      "image/png": "[encoded data removed]",
      "text/plain": [
       "<Figure size 1200x1000 with 2 Axes>"
      ]
     },
     "metadata": {},
     "output_type": "display_data"
    }
   ],
   "source": [
    "correlation = train.corr()\n",
    "\n",
    "plt.figure(figsize=(12, 10))\n",
    "sns.heatmap(correlation, annot=True, fmt=\".2f\", cmap='coolwarm', square=True, linewidths=0.5)\n",
    "plt.title('Correlation Heatmap', fontsize=15)\n",
    "plt.tight_layout()\n",
    "plt.show()"
   ]
  }
 ],
 "metadata": {
  "kernelspec": {
   "display_name": "Python 3",
   "language": "python",
   "name": "python3"
  },
  "language_info": {
   "codemirror_mode": {
    "name": "ipython",
    "version": 3
   },
   "file_extension": ".py",
   "mimetype": "text/x-python",
   "name": "python",
   "nbconvert_exporter": "python",
   "pygments_lexer": "ipython3",
   "version": "3.12.2"
  }
 },
 "nbformat": 4,
 "nbformat_minor": 5
}
